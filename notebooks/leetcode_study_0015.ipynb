{
  "nbformat": 4,
  "nbformat_minor": 0,
  "metadata": {
    "colab": {
      "provenance": []
    },
    "kernelspec": {
      "name": "python3",
      "display_name": "Python 3"
    },
    "language_info": {
      "name": "python"
    }
  },
  "cells": [
    {
      "cell_type": "markdown",
      "source": [
        "# 15. 3Sum\n",
        "\n",
        "Given an integer array nums, return all the triplets $[nums[i], nums[j], nums[k]]$ such that $i != j$, $i != k$, and $j != k$, and $nums[i] + nums[j] + nums[k] == 0 $."
      ],
      "metadata": {
        "id": "qV6bHALvOcvg"
      }
    },
    {
      "cell_type": "code",
      "source": [],
      "metadata": {
        "id": "zkaUDOkKF0YW"
      },
      "execution_count": null,
      "outputs": []
    },
    {
      "cell_type": "markdown",
      "source": [
        "__Example 1:__\n",
        "```\n",
        "Input: nums = [-1,0,1,2,-1,-4]\n",
        "Output: [[-1,-1,2],[-1,0,1]]\n",
        "Explanation: \n",
        "nums[0] + nums[1] + nums[2] = (-1) + 0 + 1 = 0.\n",
        "nums[1] + nums[2] + nums[4] = 0 + 1 + (-1) = 0.\n",
        "nums[0] + nums[3] + nums[4] = (-1) + 2 + (-1) = 0.\n",
        "The distinct triplets are [-1,0,1] and [-1,-1,2].\n",
        "Notice that the order of the output and the order of the triplets does not matter.\n",
        "```\n",
        "__Example 2:__\n",
        "```\n",
        "Input: nums = [0,1,1]\n",
        "Output: []\n",
        "Explanation: The only possible triplet does not sum up to 0.\n",
        "```\n",
        "\n",
        "__Example 3:__\n",
        "```\n",
        "Input: nums = [0,0,0]\n",
        "Output: [[0,0,0]]\n",
        "Explanation: The only possible triplet sums up to 0.\n",
        "```"
      ],
      "metadata": {
        "id": "0BF8mN9LPD5g"
      }
    },
    {
      "cell_type": "markdown",
      "source": [
        "## Method-1:\n",
        "$O(n^2)$"
      ],
      "metadata": {
        "id": "UtEgZwIYPQwf"
      }
    },
    {
      "cell_type": "code",
      "execution_count": null,
      "metadata": {
        "id": "Q4tkHalQOb64"
      },
      "outputs": [],
      "source": [
        "class Solution:\n",
        "    def threeSum(self, nums: List[int]) -> List[List[int]]:\n",
        "        import itertools as it\n",
        "        nums = sorted(nums)\n",
        "        exist = set()\n",
        "        twice = set()\n",
        "        triple = set() \n",
        "        check_uniq = set()\n",
        "        for num in nums:\n",
        "            if num not in exist:\n",
        "                exist.add(num)\n",
        "            elif num not in twice:\n",
        "                twice.add(num)\n",
        "            else:\n",
        "                triple.add(num)\n",
        "\n",
        "        ans=list()\n",
        "        ss=it.combinations(nums, 2)\n",
        "        for x, y in ss:\n",
        "            z = -x-y\n",
        "            if z not in exist:\n",
        "                continue\n",
        "            if z < x or z < y:\n",
        "                continue\n",
        "            if (x!=y and y!=z) or (x!=y and y==z and z in twice ) or (x==y and y!=z) or (z in triple):\n",
        "                chect_str = f\"{x},{y},{z}\"\n",
        "                if chect_str not in check_uniq:\n",
        "                    ans.append([x, y, z])\n",
        "                    check_uniq.add(chect_str)\n",
        "        return ans"
      ]
    },
    {
      "cell_type": "markdown",
      "source": [
        "## Method-2:\n",
        "$O(n^2)$"
      ],
      "metadata": {
        "id": "v60CDO8bRLBD"
      }
    },
    {
      "cell_type": "code",
      "source": [],
      "metadata": {
        "id": "5Y-HbW9DQ6iU"
      },
      "execution_count": null,
      "outputs": []
    },
    {
      "cell_type": "code",
      "source": [],
      "metadata": {
        "id": "GKqwxg6xe30N"
      },
      "execution_count": null,
      "outputs": []
    }
  ]
}