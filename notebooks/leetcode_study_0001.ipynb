{
  "nbformat": 4,
  "nbformat_minor": 0,
  "metadata": {
    "colab": {
      "provenance": []
    },
    "kernelspec": {
      "name": "python3",
      "display_name": "Python 3"
    },
    "language_info": {
      "name": "python"
    }
  },
  "cells": [
    {
      "cell_type": "markdown",
      "source": [
        "# 1. Two Sum\n",
        "\n",
        "Given an array of integers $nums$ and an integer $target$, return indices of the two numbers such that they add up to target.\n",
        "\n",
        "You may assume that each input would have __exactly one solution__, and you may not use the same element twice.\n",
        "\n",
        "You can return the answer in any order."
      ],
      "metadata": {
        "id": "qV6bHALvOcvg"
      }
    },
    {
      "cell_type": "markdown",
      "source": [
        "__Example 1:__\n",
        "```\n",
        "Input: nums = [2,7,11,15], target = 9\n",
        "Output: [0,1]\n",
        "Explanation: Because nums[0] + nums[1] == 9, we return [0, 1].\n",
        "```\n",
        "__Example 2:__\n",
        "```\n",
        "Input: nums = [3,2,4], target = 6\n",
        "Output: [1,2]\n",
        "```\n",
        "\n",
        "__Example 3:__\n",
        "```\n",
        "Input: nums = [3,3], target = 6\n",
        "Output: [0,1]\n",
        "```"
      ],
      "metadata": {
        "id": "0BF8mN9LPD5g"
      }
    },
    {
      "cell_type": "markdown",
      "source": [
        "## Method-1:\n",
        "二層的迴圈，$O(n^2)$"
      ],
      "metadata": {
        "id": "UtEgZwIYPQwf"
      }
    },
    {
      "cell_type": "code",
      "execution_count": null,
      "metadata": {
        "id": "Q4tkHalQOb64"
      },
      "outputs": [],
      "source": [
        "class Solution:\n",
        "    def twoSum(self, nums: List[int], target: int) -> List[int]:\n",
        "        for i in range(len(nums)-1):\n",
        "            for j in range(i+1, len(nums)):\n",
        "                if nums[i]+nums[j]==target:\n",
        "                    return [i,j]"
      ]
    },
    {
      "cell_type": "markdown",
      "source": [
        "## Method-2:\n",
        "一層的迴圈，$O(n)$"
      ],
      "metadata": {
        "id": "v60CDO8bRLBD"
      }
    },
    {
      "cell_type": "code",
      "source": [
        "class Solution:\n",
        "    def twoSum(self, nums: List[int], target: int) -> List[int]:\n",
        "        num_index = dict()\n",
        "        for i in range(len(nums)):\n",
        "            num = nums[i]\n",
        "            num_index[num]=i\n",
        "\n",
        "        for i in range(len(nums)-1):\n",
        "            num1 = nums[i]\n",
        "            num2 = target - num1\n",
        "            j = num_index[num2]\n",
        "            if j > i:\n",
        "                return [i, j]"
      ],
      "metadata": {
        "id": "5Y-HbW9DQ6iU"
      },
      "execution_count": null,
      "outputs": []
    },
    {
      "cell_type": "code",
      "source": [],
      "metadata": {
        "id": "GKqwxg6xe30N"
      },
      "execution_count": null,
      "outputs": []
    }
  ]
}