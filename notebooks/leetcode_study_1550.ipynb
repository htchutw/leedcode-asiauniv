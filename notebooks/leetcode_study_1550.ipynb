{
  "nbformat": 4,
  "nbformat_minor": 0,
  "metadata": {
    "colab": {
      "provenance": []
    },
    "kernelspec": {
      "name": "python3",
      "display_name": "Python 3"
    },
    "language_info": {
      "name": "python"
    }
  },
  "cells": [
    {
      "cell_type": "markdown",
      "source": [
        "# 1550. Three Consecutive Odds\n",
        "\n",
        "Given an integer array __arr__, return __true__ if there are three consecutive odd numbers in the array. Otherwise, return __false__."
      ],
      "metadata": {
        "id": "qV6bHALvOcvg"
      }
    },
    {
      "cell_type": "code",
      "source": [],
      "metadata": {
        "id": "zkaUDOkKF0YW"
      },
      "execution_count": null,
      "outputs": []
    },
    {
      "cell_type": "markdown",
      "source": [
        "__Example 1:__\n",
        "```\n",
        "Input: arr = [2,6,4,1]\n",
        "Output: false\n",
        "Explanation: There are no three consecutive odds.\n",
        "```\n",
        "__Example 2:__\n",
        "```\n",
        "Input: arr = [1,2,34,3,4,5,7,23,12]\n",
        "Output: true\n",
        "Explanation: [5,7,23] are three consecutive odds.\n",
        "```\n"
      ],
      "metadata": {
        "id": "0BF8mN9LPD5g"
      }
    },
    {
      "cell_type": "markdown",
      "source": [
        "## Method-1:\n"
      ],
      "metadata": {
        "id": "UtEgZwIYPQwf"
      }
    },
    {
      "cell_type": "code",
      "execution_count": null,
      "metadata": {
        "id": "Q4tkHalQOb64"
      },
      "outputs": [],
      "source": [
        "class Solution:\n",
        "    def threeConsecutiveOdds(self, arr: List[int]) -> bool:\n",
        "        for i in range(len(arr)-2):\n",
        "            if arr[i]%2==1 and arr[i+1]%2==1 and arr[i+2]%2==1:\n",
        "                return True\n",
        "        return False"
      ]
    },
    {
      "cell_type": "markdown",
      "source": [
        "## Method-2:\n"
      ],
      "metadata": {
        "id": "v60CDO8bRLBD"
      }
    },
    {
      "cell_type": "code",
      "source": [],
      "metadata": {
        "id": "5Y-HbW9DQ6iU"
      },
      "execution_count": null,
      "outputs": []
    },
    {
      "cell_type": "code",
      "source": [],
      "metadata": {
        "id": "GKqwxg6xe30N"
      },
      "execution_count": null,
      "outputs": []
    }
  ]
}