{
  "nbformat": 4,
  "nbformat_minor": 0,
  "metadata": {
    "colab": {
      "provenance": []
    },
    "kernelspec": {
      "name": "python3",
      "display_name": "Python 3"
    },
    "language_info": {
      "name": "python"
    }
  },
  "cells": [
    {
      "cell_type": "markdown",
      "source": [
        "# 7. Reverse Integer\n",
        "\n",
        "Given a signed 32-bit integer x, return x with its digits reversed. If reversing x causes the value to go outside the signed 32-bit integer range $[-2^{31}, 2^{31} - 1]$, then return $0$."
      ],
      "metadata": {
        "id": "qV6bHALvOcvg"
      }
    },
    {
      "cell_type": "markdown",
      "source": [
        "__Example 1:__\n",
        "```\n",
        "Input: x = 123\n",
        "Output: 321\n",
        "```\n",
        "__Example 2:__\n",
        "```\n",
        "Input: x = -123\n",
        "Output: -321\n",
        "```\n",
        "\n",
        "__Example 3:__\n",
        "```\n",
        "Input: x = 120\n",
        "Output: 21\n",
        "```"
      ],
      "metadata": {
        "id": "0BF8mN9LPD5g"
      }
    },
    {
      "cell_type": "code",
      "execution_count": null,
      "metadata": {
        "id": "Q4tkHalQOb64"
      },
      "outputs": [],
      "source": [
        "class Solution:\n",
        "    def reverse(self, x: int) -> int:\n",
        "        if x >=0:\n",
        "            sss = str(x)\n",
        "            inv =sss[::-1]\n",
        "            y =int(inv)\n",
        "        else:\n",
        "            sss = str(-x)\n",
        "            inv =sss[::-1]\n",
        "            y =-int(inv)\n",
        "        if y >= 2**31 or y <=-2**31:\n",
        "            return 0 \n",
        "        return y"
      ]
    },
    {
      "cell_type": "code",
      "source": [],
      "metadata": {
        "id": "GKqwxg6xe30N"
      },
      "execution_count": null,
      "outputs": []
    }
  ]
}